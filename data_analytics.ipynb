{
  "nbformat": 4,
  "nbformat_minor": 0,
  "metadata": {
    "colab": {
      "provenance": []
    },
    "kernelspec": {
      "name": "python3",
      "display_name": "Python 3"
    },
    "language_info": {
      "name": "python"
    }
  },
  "cells": [
    {
      "cell_type": "code",
      "execution_count": null,
      "metadata": {
        "id": "M0g3TVef-kMg"
      },
      "outputs": [],
      "source": []
    },
    {
      "cell_type": "code",
      "source": [
        "import pandas as pd\n",
        "import numpy as np"
      ],
      "metadata": {
        "id": "6IYSchIx-zUF"
      },
      "execution_count": 3,
      "outputs": []
    },
    {
      "cell_type": "code",
      "source": [
        "import matplotlib.pyplot as plt"
      ],
      "metadata": {
        "id": "YM44QkeZ-2DV"
      },
      "execution_count": 4,
      "outputs": []
    },
    {
      "cell_type": "code",
      "source": [
        "data = pd.read_csv('summer-products-with-rating-and-performance_2020-08.csv')"
      ],
      "metadata": {
        "id": "ElhVdM5a-7YF"
      },
      "execution_count": 5,
      "outputs": []
    },
    {
      "cell_type": "code",
      "source": [
        "print(data.head())"
      ],
      "metadata": {
        "colab": {
          "base_uri": "https://localhost:8080/"
        },
        "id": "8SFl6u2d_Hx8",
        "outputId": "e7196c00-76d5-4393-890e-a90aafd8d4f1"
      },
      "execution_count": 6,
      "outputs": [
        {
          "output_type": "stream",
          "name": "stdout",
          "text": [
            "                                               title  \\\n",
            "0  2020 Summer Vintage Flamingo Print  Pajamas Se...   \n",
            "1  SSHOUSE Summer Casual Sleeveless Soirée Party ...   \n",
            "2  2020 Nouvelle Arrivée Femmes Printemps et Été ...   \n",
            "3  Hot Summer Cool T-shirt pour les femmes Mode T...   \n",
            "4  Femmes Shorts d'été à lacets taille élastique ...   \n",
            "\n",
            "                                          title_orig  price  retail_price  \\\n",
            "0  2020 Summer Vintage Flamingo Print  Pajamas Se...  16.00            14   \n",
            "1   Women's Casual Summer Sleeveless Sexy Mini Dress   8.00            22   \n",
            "2  2020 New Arrival Women Spring and Summer Beach...   8.00            43   \n",
            "3  Hot Summer Cool T Shirt for Women Fashion Tops...   8.00             8   \n",
            "4  Women Summer Shorts Lace Up Elastic Waistband ...   2.72             3   \n",
            "\n",
            "  currency_buyer  units_sold  uses_ad_boosts  rating  rating_count  \\\n",
            "0            EUR         100               0    3.76            54   \n",
            "1            EUR       20000               1    3.45          6135   \n",
            "2            EUR         100               0    3.57            14   \n",
            "3            EUR        5000               1    4.03           579   \n",
            "4            EUR         100               1    3.10            20   \n",
            "\n",
            "   rating_five_count  ...  merchant_rating_count  merchant_rating  \\\n",
            "0               26.0  ...                    568         4.128521   \n",
            "1             2269.0  ...                  17752         3.899673   \n",
            "2                5.0  ...                    295         3.989831   \n",
            "3              295.0  ...                  23832         4.020435   \n",
            "4                6.0  ...                  14482         4.001588   \n",
            "\n",
            "                merchant_id  merchant_has_profile_picture  \\\n",
            "0  595097d6a26f6e070cb878d1                             0   \n",
            "1  56458aa03a698c35c9050988                             0   \n",
            "2  5d464a1ffdf7bc44ee933c65                             0   \n",
            "3  58cfdefdacb37b556efdff7c                             0   \n",
            "4  5ab3b592c3911a095ad5dadb                             0   \n",
            "\n",
            "   merchant_profile_picture                                      product_url  \\\n",
            "0                       NaN  https://www.wish.com/c/5e9ae51d43d6a96e303acdb0   \n",
            "1                       NaN  https://www.wish.com/c/58940d436a0d3d5da4e95a38   \n",
            "2                       NaN  https://www.wish.com/c/5ea10e2c617580260d55310a   \n",
            "3                       NaN  https://www.wish.com/c/5cedf17ad1d44c52c59e4aca   \n",
            "4                       NaN  https://www.wish.com/c/5ebf5819ebac372b070b0e70   \n",
            "\n",
            "                                     product_picture  \\\n",
            "0  https://contestimg.wish.com/api/webimage/5e9ae...   \n",
            "1  https://contestimg.wish.com/api/webimage/58940...   \n",
            "2  https://contestimg.wish.com/api/webimage/5ea10...   \n",
            "3  https://contestimg.wish.com/api/webimage/5cedf...   \n",
            "4  https://contestimg.wish.com/api/webimage/5ebf5...   \n",
            "\n",
            "                 product_id   theme crawl_month  \n",
            "0  5e9ae51d43d6a96e303acdb0  summer     2020-08  \n",
            "1  58940d436a0d3d5da4e95a38  summer     2020-08  \n",
            "2  5ea10e2c617580260d55310a  summer     2020-08  \n",
            "3  5cedf17ad1d44c52c59e4aca  summer     2020-08  \n",
            "4  5ebf5819ebac372b070b0e70  summer     2020-08  \n",
            "\n",
            "[5 rows x 43 columns]\n"
          ]
        }
      ]
    },
    {
      "cell_type": "code",
      "source": [
        "# Check for missing values\n",
        "print(data.isnull().sum())\n"
      ],
      "metadata": {
        "colab": {
          "base_uri": "https://localhost:8080/"
        },
        "id": "mvx9v4cF_RON",
        "outputId": "0c29d102-4036-4036-a502-e288480b9240"
      },
      "execution_count": 7,
      "outputs": [
        {
          "output_type": "stream",
          "name": "stdout",
          "text": [
            "title                              0\n",
            "title_orig                         0\n",
            "price                              0\n",
            "retail_price                       0\n",
            "currency_buyer                     0\n",
            "units_sold                         0\n",
            "uses_ad_boosts                     0\n",
            "rating                             0\n",
            "rating_count                       0\n",
            "rating_five_count                 45\n",
            "rating_four_count                 45\n",
            "rating_three_count                45\n",
            "rating_two_count                  45\n",
            "rating_one_count                  45\n",
            "badges_count                       0\n",
            "badge_local_product                0\n",
            "badge_product_quality              0\n",
            "badge_fast_shipping                0\n",
            "tags                               0\n",
            "product_color                     41\n",
            "product_variation_size_id         14\n",
            "product_variation_inventory        0\n",
            "shipping_option_name               0\n",
            "shipping_option_price              0\n",
            "shipping_is_express                0\n",
            "countries_shipped_to               0\n",
            "inventory_total                    0\n",
            "has_urgency_banner              1100\n",
            "urgency_text                    1100\n",
            "origin_country                    17\n",
            "merchant_title                     0\n",
            "merchant_name                      4\n",
            "merchant_info_subtitle             1\n",
            "merchant_rating_count              0\n",
            "merchant_rating                    0\n",
            "merchant_id                        0\n",
            "merchant_has_profile_picture       0\n",
            "merchant_profile_picture        1347\n",
            "product_url                        0\n",
            "product_picture                    0\n",
            "product_id                         0\n",
            "theme                              0\n",
            "crawl_month                        0\n",
            "dtype: int64\n"
          ]
        }
      ]
    },
    {
      "cell_type": "code",
      "source": [
        "# Fill missing values or drop rows/columns with missing values\n",
        "data = data.fillna(method='ffill')  # Forward fill for missing values\n"
      ],
      "metadata": {
        "id": "cBpJIknj_bMM"
      },
      "execution_count": 8,
      "outputs": []
    },
    {
      "cell_type": "code",
      "source": [
        "# Display the first few rows of the cleaned dataset\n",
        "print(data.head())\n"
      ],
      "metadata": {
        "colab": {
          "base_uri": "https://localhost:8080/"
        },
        "id": "eQ36VKdx_g3r",
        "outputId": "1c77de43-ebe0-4328-f633-8055d388fcc8"
      },
      "execution_count": 9,
      "outputs": [
        {
          "output_type": "stream",
          "name": "stdout",
          "text": [
            "                                               title  \\\n",
            "0  2020 Summer Vintage Flamingo Print  Pajamas Se...   \n",
            "1  SSHOUSE Summer Casual Sleeveless Soirée Party ...   \n",
            "2  2020 Nouvelle Arrivée Femmes Printemps et Été ...   \n",
            "3  Hot Summer Cool T-shirt pour les femmes Mode T...   \n",
            "4  Femmes Shorts d'été à lacets taille élastique ...   \n",
            "\n",
            "                                          title_orig  price  retail_price  \\\n",
            "0  2020 Summer Vintage Flamingo Print  Pajamas Se...  16.00            14   \n",
            "1   Women's Casual Summer Sleeveless Sexy Mini Dress   8.00            22   \n",
            "2  2020 New Arrival Women Spring and Summer Beach...   8.00            43   \n",
            "3  Hot Summer Cool T Shirt for Women Fashion Tops...   8.00             8   \n",
            "4  Women Summer Shorts Lace Up Elastic Waistband ...   2.72             3   \n",
            "\n",
            "  currency_buyer  units_sold  uses_ad_boosts  rating  rating_count  \\\n",
            "0            EUR         100               0    3.76            54   \n",
            "1            EUR       20000               1    3.45          6135   \n",
            "2            EUR         100               0    3.57            14   \n",
            "3            EUR        5000               1    4.03           579   \n",
            "4            EUR         100               1    3.10            20   \n",
            "\n",
            "   rating_five_count  ...  merchant_rating_count  merchant_rating  \\\n",
            "0               26.0  ...                    568         4.128521   \n",
            "1             2269.0  ...                  17752         3.899673   \n",
            "2                5.0  ...                    295         3.989831   \n",
            "3              295.0  ...                  23832         4.020435   \n",
            "4                6.0  ...                  14482         4.001588   \n",
            "\n",
            "                merchant_id  merchant_has_profile_picture  \\\n",
            "0  595097d6a26f6e070cb878d1                             0   \n",
            "1  56458aa03a698c35c9050988                             0   \n",
            "2  5d464a1ffdf7bc44ee933c65                             0   \n",
            "3  58cfdefdacb37b556efdff7c                             0   \n",
            "4  5ab3b592c3911a095ad5dadb                             0   \n",
            "\n",
            "   merchant_profile_picture                                      product_url  \\\n",
            "0                       NaN  https://www.wish.com/c/5e9ae51d43d6a96e303acdb0   \n",
            "1                       NaN  https://www.wish.com/c/58940d436a0d3d5da4e95a38   \n",
            "2                       NaN  https://www.wish.com/c/5ea10e2c617580260d55310a   \n",
            "3                       NaN  https://www.wish.com/c/5cedf17ad1d44c52c59e4aca   \n",
            "4                       NaN  https://www.wish.com/c/5ebf5819ebac372b070b0e70   \n",
            "\n",
            "                                     product_picture  \\\n",
            "0  https://contestimg.wish.com/api/webimage/5e9ae...   \n",
            "1  https://contestimg.wish.com/api/webimage/58940...   \n",
            "2  https://contestimg.wish.com/api/webimage/5ea10...   \n",
            "3  https://contestimg.wish.com/api/webimage/5cedf...   \n",
            "4  https://contestimg.wish.com/api/webimage/5ebf5...   \n",
            "\n",
            "                 product_id   theme crawl_month  \n",
            "0  5e9ae51d43d6a96e303acdb0  summer     2020-08  \n",
            "1  58940d436a0d3d5da4e95a38  summer     2020-08  \n",
            "2  5ea10e2c617580260d55310a  summer     2020-08  \n",
            "3  5cedf17ad1d44c52c59e4aca  summer     2020-08  \n",
            "4  5ebf5819ebac372b070b0e70  summer     2020-08  \n",
            "\n",
            "[5 rows x 43 columns]\n"
          ]
        }
      ]
    },
    {
      "cell_type": "code",
      "source": [
        "# Summary statistics\n",
        "print(data.describe())\n"
      ],
      "metadata": {
        "colab": {
          "base_uri": "https://localhost:8080/"
        },
        "id": "7C7od_nh_i4g",
        "outputId": "64e6d7f0-ca60-45ae-e8d0-1c4769da1126"
      },
      "execution_count": 10,
      "outputs": [
        {
          "output_type": "stream",
          "name": "stdout",
          "text": [
            "             price  retail_price     units_sold  uses_ad_boosts       rating  \\\n",
            "count  1573.000000   1573.000000    1573.000000     1573.000000  1573.000000   \n",
            "mean      8.325372     23.288620    4339.005086        0.432931     3.820896   \n",
            "std       3.932030     30.357863    9356.539302        0.495639     0.515374   \n",
            "min       1.000000      1.000000       1.000000        0.000000     1.000000   \n",
            "25%       5.810000      7.000000     100.000000        0.000000     3.550000   \n",
            "50%       8.000000     10.000000    1000.000000        0.000000     3.850000   \n",
            "75%      11.000000     26.000000    5000.000000        1.000000     4.110000   \n",
            "max      49.000000    252.000000  100000.000000        1.000000     5.000000   \n",
            "\n",
            "       rating_count  rating_five_count  rating_four_count  rating_three_count  \\\n",
            "count   1573.000000        1573.000000        1573.000000         1573.000000   \n",
            "mean     889.659250         443.279085         179.595041          134.452003   \n",
            "std     1983.928834         975.090333         397.344547          308.990626   \n",
            "min        0.000000           0.000000           0.000000            0.000000   \n",
            "25%       24.000000          13.000000           5.000000            4.000000   \n",
            "50%      150.000000          80.000000          32.000000           24.000000   \n",
            "75%      855.000000         418.000000         169.000000          131.000000   \n",
            "max    20744.000000       11548.000000        4152.000000         3658.000000   \n",
            "\n",
            "       rating_two_count  ...  badge_fast_shipping  \\\n",
            "count       1573.000000  ...          1573.000000   \n",
            "mean          63.715830  ...             0.012715   \n",
            "std          150.136537  ...             0.112075   \n",
            "min            0.000000  ...             0.000000   \n",
            "25%            2.000000  ...             0.000000   \n",
            "50%           11.000000  ...             0.000000   \n",
            "75%           63.000000  ...             0.000000   \n",
            "max         2003.000000  ...             1.000000   \n",
            "\n",
            "       product_variation_inventory  shipping_option_price  \\\n",
            "count                  1573.000000            1573.000000   \n",
            "mean                     33.081373               2.345200   \n",
            "std                      21.353137               1.024371   \n",
            "min                       1.000000               1.000000   \n",
            "25%                       6.000000               2.000000   \n",
            "50%                      50.000000               2.000000   \n",
            "75%                      50.000000               3.000000   \n",
            "max                      50.000000              12.000000   \n",
            "\n",
            "       shipping_is_express  countries_shipped_to  inventory_total  \\\n",
            "count          1573.000000           1573.000000      1573.000000   \n",
            "mean              0.002543             40.456453        49.821360   \n",
            "std               0.050379             20.301203         2.562799   \n",
            "min               0.000000              6.000000         1.000000   \n",
            "25%               0.000000             31.000000        50.000000   \n",
            "50%               0.000000             40.000000        50.000000   \n",
            "75%               0.000000             43.000000        50.000000   \n",
            "max               1.000000            140.000000        50.000000   \n",
            "\n",
            "       has_urgency_banner  merchant_rating_count  merchant_rating  \\\n",
            "count              1573.0           1.573000e+03      1573.000000   \n",
            "mean                  1.0           2.649583e+04         4.032345   \n",
            "std                   0.0           7.847446e+04         0.204768   \n",
            "min                   1.0           0.000000e+00         2.333333   \n",
            "25%                   1.0           1.987000e+03         3.917353   \n",
            "50%                   1.0           7.936000e+03         4.040650   \n",
            "75%                   1.0           2.456400e+04         4.161797   \n",
            "max                   1.0           2.174765e+06         5.000000   \n",
            "\n",
            "       merchant_has_profile_picture  \n",
            "count                   1573.000000  \n",
            "mean                       0.143675  \n",
            "std                        0.350871  \n",
            "min                        0.000000  \n",
            "25%                        0.000000  \n",
            "50%                        0.000000  \n",
            "75%                        0.000000  \n",
            "max                        1.000000  \n",
            "\n",
            "[8 rows x 24 columns]\n"
          ]
        }
      ]
    },
    {
      "cell_type": "code",
      "source": [
        "# Histogram of a specific column\n",
        "plt.hist(data['rating'], bins=20)\n",
        "plt.title('Histogram of Numerical Column')\n",
        "plt.xlabel('Value')\n",
        "plt.ylabel('Frequency')\n",
        "plt.show()\n"
      ],
      "metadata": {
        "colab": {
          "base_uri": "https://localhost:8080/",
          "height": 472
        },
        "id": "27IREfWzAPK6",
        "outputId": "0d6c8d56-595d-43e6-8b58-df60ec6a17dd"
      },
      "execution_count": 15,
      "outputs": [
        {
          "output_type": "display_data",
          "data": {
            "text/plain": [
              "<Figure size 640x480 with 1 Axes>"
            ],
            "image/png": "[encoded data removed]"
          },
          "metadata": {}
        }
      ]
    },
    {
      "cell_type": "code",
      "source": [
        "# Scatter plot between two numerical columns\n",
        "plt.scatter(data['rating'], data['shipping_option_price'])\n",
        "plt.title('Scatter Plot')\n",
        "plt.xlabel('rating Column 1')\n",
        "plt.ylabel('shipping option price Column 2')\n",
        "plt.show()\n"
      ],
      "metadata": {
        "colab": {
          "base_uri": "https://localhost:8080/",
          "height": 472
        },
        "id": "2-Mu4sC5ATJo",
        "outputId": "4a01ef86-5e28-47b7-bb78-d6ef3db72d10"
      },
      "execution_count": 16,
      "outputs": [
        {
          "output_type": "display_data",
          "data": {
            "text/plain": [
              "<Figure size 640x480 with 1 Axes>"
            ],
            "image/png": "[encoded data removed]"
          },
          "metadata": {}
        }
      ]
    },
    {
      "cell_type": "code",
      "source": [
        "data.aggregate('rating')"
      ],
      "metadata": {
        "colab": {
          "base_uri": "https://localhost:8080/"
        },
        "id": "ve3S6dDkBP_E",
        "outputId": "cecd024d-0f51-403b-8d26-553eb027a078"
      },
      "execution_count": 19,
      "outputs": [
        {
          "output_type": "execute_result",
          "data": {
            "text/plain": [
              "0       3.76\n",
              "1       3.45\n",
              "2       3.57\n",
              "3       4.03\n",
              "4       3.10\n",
              "        ... \n",
              "1568    4.08\n",
              "1569    3.07\n",
              "1570    3.71\n",
              "1571    2.50\n",
              "1572    4.07\n",
              "Name: rating, Length: 1573, dtype: float64"
            ]
          },
          "metadata": {},
          "execution_count": 19
        }
      ]
    },
    {
      "cell_type": "code",
      "source": [
        "# Bar plot for categorical data\n",
        "data['rating'].value_counts().plot(kind='bar')\n",
        "plt.title('Bar Plot of Category Column')\n",
        "plt.xlabel('Category')\n",
        "plt.ylabel('Frequency')\n",
        "plt.show()\n"
      ],
      "metadata": {
        "colab": {
          "base_uri": "https://localhost:8080/",
          "height": 489
        },
        "id": "Oen_VpjVAf0N",
        "outputId": "afd617b4-a0bc-469f-9dad-4a06a3552122"
      },
      "execution_count": 17,
      "outputs": [
        {
          "output_type": "display_data",
          "data": {
            "text/plain": [
              "<Figure size 640x480 with 1 Axes>"
            ],
            "image/png": "[encoded data removed]"
          },
          "metadata": {}
        }
      ]
    },
    {
      "cell_type": "code",
      "source": [
        "total_inventory = data['inventory_total'].sum()\n",
        "print(total_inventory)"
      ],
      "metadata": {
        "colab": {
          "base_uri": "https://localhost:8080/"
        },
        "id": "S09MwofyBrN1",
        "outputId": "e9c04588-3290-4e90-e57d-59b0028fbd56"
      },
      "execution_count": 23,
      "outputs": [
        {
          "output_type": "stream",
          "name": "stdout",
          "text": [
            "78369\n"
          ]
        }
      ]
    },
    {
      "cell_type": "code",
      "source": [
        "data.all(axis=1)"
      ],
      "metadata": {
        "colab": {
          "base_uri": "https://localhost:8080/"
        },
        "id": "5tq4U97wBrEe",
        "outputId": "932e95eb-0ec4-4912-8293-76e33666294c"
      },
      "execution_count": 24,
      "outputs": [
        {
          "output_type": "execute_result",
          "data": {
            "text/plain": [
              "0       False\n",
              "1       False\n",
              "2       False\n",
              "3       False\n",
              "4       False\n",
              "        ...  \n",
              "1568    False\n",
              "1569    False\n",
              "1570    False\n",
              "1571    False\n",
              "1572    False\n",
              "Length: 1573, dtype: bool"
            ]
          },
          "metadata": {},
          "execution_count": 24
        }
      ]
    },
    {
      "cell_type": "code",
      "source": [
        "# prompt: hypothesis test\n",
        "\n",
        "from scipy.stats import ttest_ind\n",
        "\n",
        "# Define the two groups of data\n",
        "group1 = data[data['rating'] >= 3.5]['inventory_total']\n",
        "group2 = data[data['rating'] < 3.5]['inventory_total']\n",
        "\n",
        "# Perform the independent t-test\n",
        "t_statistic, p_value = ttest_ind(group1, group2)\n",
        "\n",
        "# Interpret the results\n",
        "alpha = 0.05\n",
        "if p_value < alpha:\n",
        "    print(\"There is a statistically significant difference in inventory total between the two groups (p-value = {})\".format(p_value))\n",
        "else:\n",
        "    print(\"There is no statistically significant difference in inventory total between the two groups (p-value = {})\".format(p_value))\n"
      ],
      "metadata": {
        "colab": {
          "base_uri": "https://localhost:8080/"
        },
        "id": "fxF5a0dLB6Y5",
        "outputId": "0a79db48-3131-499e-dda6-9b6ed7bc9da0"
      },
      "execution_count": 25,
      "outputs": [
        {
          "output_type": "stream",
          "name": "stdout",
          "text": [
            "There is no statistically significant difference in inventory total between the two groups (p-value = 0.35509889216366586)\n"
          ]
        }
      ]
    },
    {
      "cell_type": "code",
      "source": [
        "# prompt: linear regression\n",
        "\n",
        "import matplotlib.pyplot as plt\n",
        "from sklearn.linear_model import LinearRegression\n",
        "\n",
        "# Define the independent and dependent variables\n",
        "X = data[['rating']]\n",
        "y = data['inventory_total']\n",
        "\n",
        "# Create a linear regression model\n",
        "model = LinearRegression()\n",
        "\n",
        "# Fit the model to the data\n",
        "model.fit(X, y)\n",
        "\n",
        "# Make predictions\n",
        "predictions = model.predict(X)\n",
        "\n",
        "# Evaluate the model\n",
        "from sklearn.metrics import mean_squared_error\n",
        "mse = mean_squared_error(y, predictions)\n",
        "print(\"Mean squared error:\", mse)\n",
        "\n",
        "# Plot the data and the regression line\n",
        "plt.scatter(X, y)\n",
        "plt.plot(X, predictions, color='red')\n",
        "plt.title('Linear Regression')\n",
        "plt.xlabel('rating')\n",
        "plt.ylabel('inventory_total')\n",
        "plt.show()\n"
      ],
      "metadata": {
        "colab": {
          "base_uri": "https://localhost:8080/",
          "height": 489
        },
        "id": "wGjngqwVCTQh",
        "outputId": "1fc6118a-2a42-43f8-b8ca-f9ffa79ac4af"
      },
      "execution_count": 26,
      "outputs": [
        {
          "output_type": "stream",
          "name": "stdout",
          "text": [
            "Mean squared error: 6.545218476406298\n"
          ]
        },
        {
          "output_type": "display_data",
          "data": {
            "text/plain": [
              "<Figure size 640x480 with 1 Axes>"
            ],
            "image/png": "[encoded data removed]"
          },
          "metadata": {}
        }
      ]
    },
    {
      "cell_type": "code",
      "source": [
        "# prompt: logistic regression\n",
        "\n",
        "import matplotlib.pyplot as plt\n",
        "from sklearn.linear_model import LogisticRegression\n",
        "\n",
        "# Define the independent and dependent variables\n",
        "X = data[['rating']]\n",
        "y = data['inventory_total']\n",
        "\n",
        "# Create a logistic regression model\n",
        "model = LogisticRegression()\n",
        "\n",
        "# Fit the model to the data\n",
        "model.fit(X, y)\n",
        "\n",
        "# Make predictions\n",
        "predictions = model.predict(X)\n",
        "\n",
        "# Evaluate the model\n",
        "accuracy = model.score(X, y)\n",
        "print(\"Accuracy:\", accuracy)\n",
        "\n",
        "# Plot the data and the regression line\n",
        "plt.scatter(X, y)\n",
        "plt.plot(X, predictions, color='red')\n",
        "plt.title('Logistic Regression')\n",
        "plt.xlabel('rating')\n",
        "plt.ylabel('inventory_total')\n",
        "plt.show()\n"
      ],
      "metadata": {
        "colab": {
          "base_uri": "https://localhost:8080/",
          "height": 489
        },
        "id": "rIgqCDilCm_m",
        "outputId": "a1abed64-4890-4006-8382-b2b7d832b14e"
      },
      "execution_count": 27,
      "outputs": [
        {
          "output_type": "stream",
          "name": "stdout",
          "text": [
            "Accuracy: 0.9936427209154481\n"
          ]
        },
        {
          "output_type": "display_data",
          "data": {
            "text/plain": [
              "<Figure size 640x480 with 1 Axes>"
            ],
            "image/png": "[encoded data removed]"
          },
          "metadata": {}
        }
      ]
    },
    {
      "cell_type": "code",
      "source": [
        "# prompt: Decision Trees\n",
        "\n",
        "import matplotlib.pyplot as plt\n",
        "from sklearn.tree import DecisionTreeClassifier\n",
        "\n",
        "# Define the independent and dependent variables\n",
        "X = data[['rating']]\n",
        "y = data['inventory_total']\n",
        "\n",
        "# Create a decision tree model\n",
        "model = DecisionTreeClassifier()\n",
        "\n",
        "# Fit the model to the data\n",
        "model.fit(X, y)\n",
        "\n",
        "# Make predictions\n",
        "predictions = model.predict(X)\n",
        "\n",
        "# Evaluate the model\n",
        "accuracy = model.score(X, y)\n",
        "print(\"Accuracy:\", accuracy)\n",
        "\n",
        "# Visualize the decision tree\n",
        "from sklearn.tree import plot_tree\n",
        "plt.figure(figsize=(10, 10))\n",
        "plot_tree(model, feature_names=['rating'], class_names=['low', 'high'], fontsize=10, filled=True)\n",
        "plt.show()\n"
      ],
      "metadata": {
        "colab": {
          "base_uri": "https://localhost:8080/",
          "height": 1000
        },
        "id": "347V3-RIDEem",
        "outputId": "a0fc9a50-7a8f-4676-89ab-5c0cb2b1fcd7"
      },
      "execution_count": 28,
      "outputs": [
        {
          "output_type": "stream",
          "name": "stdout",
          "text": [
            "Accuracy: 0.9942784488239034\n"
          ]
        },
        {
          "output_type": "error",
          "ename": "IndexError",
          "evalue": "list index out of range",
          "traceback": [
            "\u001b[0;31m---------------------------------------------------------------------------\u001b[0m",
            "\u001b[0;31mIndexError\u001b[0m                                Traceback (most recent call last)",
            "\u001b[0;32m<ipython-input-28-0342552f5753>\u001b[0m in \u001b[0;36m<cell line: 26>\u001b[0;34m()\u001b[0m\n\u001b[1;32m     24\u001b[0m \u001b[0;32mfrom\u001b[0m \u001b[0msklearn\u001b[0m\u001b[0;34m.\u001b[0m\u001b[0mtree\u001b[0m \u001b[0;32mimport\u001b[0m \u001b[0mplot_tree\u001b[0m\u001b[0;34m\u001b[0m\u001b[0;34m\u001b[0m\u001b[0m\n\u001b[1;32m     25\u001b[0m \u001b[0mplt\u001b[0m\u001b[0;34m.\u001b[0m\u001b[0mfigure\u001b[0m\u001b[0;34m(\u001b[0m\u001b[0mfigsize\u001b[0m\u001b[0;34m=\u001b[0m\u001b[0;34m(\u001b[0m\u001b[0;36m10\u001b[0m\u001b[0;34m,\u001b[0m \u001b[0;36m10\u001b[0m\u001b[0;34m)\u001b[0m\u001b[0;34m)\u001b[0m\u001b[0;34m\u001b[0m\u001b[0;34m\u001b[0m\u001b[0m\n\u001b[0;32m---> 26\u001b[0;31m \u001b[0mplot_tree\u001b[0m\u001b[0;34m(\u001b[0m\u001b[0mmodel\u001b[0m\u001b[0;34m,\u001b[0m \u001b[0mfeature_names\u001b[0m\u001b[0;34m=\u001b[0m\u001b[0;34m[\u001b[0m\u001b[0;34m'rating'\u001b[0m\u001b[0;34m]\u001b[0m\u001b[0;34m,\u001b[0m \u001b[0mclass_names\u001b[0m\u001b[0;34m=\u001b[0m\u001b[0;34m[\u001b[0m\u001b[0;34m'low'\u001b[0m\u001b[0;34m,\u001b[0m \u001b[0;34m'high'\u001b[0m\u001b[0;34m]\u001b[0m\u001b[0;34m,\u001b[0m \u001b[0mfontsize\u001b[0m\u001b[0;34m=\u001b[0m\u001b[0;36m10\u001b[0m\u001b[0;34m,\u001b[0m \u001b[0mfilled\u001b[0m\u001b[0;34m=\u001b[0m\u001b[0;32mTrue\u001b[0m\u001b[0;34m)\u001b[0m\u001b[0;34m\u001b[0m\u001b[0;34m\u001b[0m\u001b[0m\n\u001b[0m\u001b[1;32m     27\u001b[0m \u001b[0mplt\u001b[0m\u001b[0;34m.\u001b[0m\u001b[0mshow\u001b[0m\u001b[0;34m(\u001b[0m\u001b[0;34m)\u001b[0m\u001b[0;34m\u001b[0m\u001b[0;34m\u001b[0m\u001b[0m\n",
            "\u001b[0;32m/usr/local/lib/python3.10/dist-packages/sklearn/tree/_export.py\u001b[0m in \u001b[0;36mplot_tree\u001b[0;34m(decision_tree, max_depth, feature_names, class_names, label, filled, impurity, node_ids, proportion, rounded, precision, ax, fontsize)\u001b[0m\n\u001b[1;32m    192\u001b[0m         \u001b[0mfontsize\u001b[0m\u001b[0;34m=\u001b[0m\u001b[0mfontsize\u001b[0m\u001b[0;34m,\u001b[0m\u001b[0;34m\u001b[0m\u001b[0;34m\u001b[0m\u001b[0m\n\u001b[1;32m    193\u001b[0m     )\n\u001b[0;32m--> 194\u001b[0;31m     \u001b[0;32mreturn\u001b[0m \u001b[0mexporter\u001b[0m\u001b[0;34m.\u001b[0m\u001b[0mexport\u001b[0m\u001b[0;34m(\u001b[0m\u001b[0mdecision_tree\u001b[0m\u001b[0;34m,\u001b[0m \u001b[0max\u001b[0m\u001b[0;34m=\u001b[0m\u001b[0max\u001b[0m\u001b[0;34m)\u001b[0m\u001b[0;34m\u001b[0m\u001b[0;34m\u001b[0m\u001b[0m\n\u001b[0m\u001b[1;32m    195\u001b[0m \u001b[0;34m\u001b[0m\u001b[0m\n\u001b[1;32m    196\u001b[0m \u001b[0;34m\u001b[0m\u001b[0m\n",
            "\u001b[0;32m/usr/local/lib/python3.10/dist-packages/sklearn/tree/_export.py\u001b[0m in \u001b[0;36mexport\u001b[0;34m(self, decision_tree, ax)\u001b[0m\n\u001b[1;32m    653\u001b[0m         \u001b[0max\u001b[0m\u001b[0;34m.\u001b[0m\u001b[0mclear\u001b[0m\u001b[0;34m(\u001b[0m\u001b[0;34m)\u001b[0m\u001b[0;34m\u001b[0m\u001b[0;34m\u001b[0m\u001b[0m\n\u001b[1;32m    654\u001b[0m         \u001b[0max\u001b[0m\u001b[0;34m.\u001b[0m\u001b[0mset_axis_off\u001b[0m\u001b[0;34m(\u001b[0m\u001b[0;34m)\u001b[0m\u001b[0;34m\u001b[0m\u001b[0;34m\u001b[0m\u001b[0m\n\u001b[0;32m--> 655\u001b[0;31m         \u001b[0mmy_tree\u001b[0m \u001b[0;34m=\u001b[0m \u001b[0mself\u001b[0m\u001b[0;34m.\u001b[0m\u001b[0m_make_tree\u001b[0m\u001b[0;34m(\u001b[0m\u001b[0;36m0\u001b[0m\u001b[0;34m,\u001b[0m \u001b[0mdecision_tree\u001b[0m\u001b[0;34m.\u001b[0m\u001b[0mtree_\u001b[0m\u001b[0;34m,\u001b[0m \u001b[0mdecision_tree\u001b[0m\u001b[0;34m.\u001b[0m\u001b[0mcriterion\u001b[0m\u001b[0;34m)\u001b[0m\u001b[0;34m\u001b[0m\u001b[0;34m\u001b[0m\u001b[0m\n\u001b[0m\u001b[1;32m    656\u001b[0m         \u001b[0mdraw_tree\u001b[0m \u001b[0;34m=\u001b[0m \u001b[0mbuchheim\u001b[0m\u001b[0;34m(\u001b[0m\u001b[0mmy_tree\u001b[0m\u001b[0;34m)\u001b[0m\u001b[0;34m\u001b[0m\u001b[0;34m\u001b[0m\u001b[0m\n\u001b[1;32m    657\u001b[0m \u001b[0;34m\u001b[0m\u001b[0m\n",
            "\u001b[0;32m/usr/local/lib/python3.10/dist-packages/sklearn/tree/_export.py\u001b[0m in \u001b[0;36m_make_tree\u001b[0;34m(self, node_id, et, criterion, depth)\u001b[0m\n\u001b[1;32m    629\u001b[0m         \u001b[0;31m# traverses _tree.Tree recursively, builds intermediate\u001b[0m\u001b[0;34m\u001b[0m\u001b[0;34m\u001b[0m\u001b[0m\n\u001b[1;32m    630\u001b[0m         \u001b[0;31m# \"_reingold_tilford.Tree\" object\u001b[0m\u001b[0;34m\u001b[0m\u001b[0;34m\u001b[0m\u001b[0m\n\u001b[0;32m--> 631\u001b[0;31m         \u001b[0mname\u001b[0m \u001b[0;34m=\u001b[0m \u001b[0mself\u001b[0m\u001b[0;34m.\u001b[0m\u001b[0mnode_to_str\u001b[0m\u001b[0;34m(\u001b[0m\u001b[0met\u001b[0m\u001b[0;34m,\u001b[0m \u001b[0mnode_id\u001b[0m\u001b[0;34m,\u001b[0m \u001b[0mcriterion\u001b[0m\u001b[0;34m=\u001b[0m\u001b[0mcriterion\u001b[0m\u001b[0;34m)\u001b[0m\u001b[0;34m\u001b[0m\u001b[0;34m\u001b[0m\u001b[0m\n\u001b[0m\u001b[1;32m    632\u001b[0m         if et.children_left[node_id] != _tree.TREE_LEAF and (\n\u001b[1;32m    633\u001b[0m             \u001b[0mself\u001b[0m\u001b[0;34m.\u001b[0m\u001b[0mmax_depth\u001b[0m \u001b[0;32mis\u001b[0m \u001b[0;32mNone\u001b[0m \u001b[0;32mor\u001b[0m \u001b[0mdepth\u001b[0m \u001b[0;34m<=\u001b[0m \u001b[0mself\u001b[0m\u001b[0;34m.\u001b[0m\u001b[0mmax_depth\u001b[0m\u001b[0;34m\u001b[0m\u001b[0;34m\u001b[0m\u001b[0m\n",
            "\u001b[0;32m/usr/local/lib/python3.10/dist-packages/sklearn/tree/_export.py\u001b[0m in \u001b[0;36mnode_to_str\u001b[0;34m(self, tree, node_id, criterion)\u001b[0m\n\u001b[1;32m    364\u001b[0m                 \u001b[0mnode_string\u001b[0m \u001b[0;34m+=\u001b[0m \u001b[0;34m\"class = \"\u001b[0m\u001b[0;34m\u001b[0m\u001b[0;34m\u001b[0m\u001b[0m\n\u001b[1;32m    365\u001b[0m             \u001b[0;32mif\u001b[0m \u001b[0mself\u001b[0m\u001b[0;34m.\u001b[0m\u001b[0mclass_names\u001b[0m \u001b[0;32mis\u001b[0m \u001b[0;32mnot\u001b[0m \u001b[0;32mTrue\u001b[0m\u001b[0;34m:\u001b[0m\u001b[0;34m\u001b[0m\u001b[0;34m\u001b[0m\u001b[0m\n\u001b[0;32m--> 366\u001b[0;31m                 \u001b[0mclass_name\u001b[0m \u001b[0;34m=\u001b[0m \u001b[0mself\u001b[0m\u001b[0;34m.\u001b[0m\u001b[0mclass_names\u001b[0m\u001b[0;34m[\u001b[0m\u001b[0mnp\u001b[0m\u001b[0;34m.\u001b[0m\u001b[0margmax\u001b[0m\u001b[0;34m(\u001b[0m\u001b[0mvalue\u001b[0m\u001b[0;34m)\u001b[0m\u001b[0;34m]\u001b[0m\u001b[0;34m\u001b[0m\u001b[0;34m\u001b[0m\u001b[0m\n\u001b[0m\u001b[1;32m    367\u001b[0m             \u001b[0;32melse\u001b[0m\u001b[0;34m:\u001b[0m\u001b[0;34m\u001b[0m\u001b[0;34m\u001b[0m\u001b[0m\n\u001b[1;32m    368\u001b[0m                 class_name = \"y%s%s%s\" % (\n",
            "\u001b[0;31mIndexError\u001b[0m: list index out of range"
          ]
        },
        {
          "output_type": "display_data",
          "data": {
            "text/plain": [
              "<Figure size 1000x1000 with 1 Axes>"
            ],
            "image/png": "[encoded data removed]"
          },
          "metadata": {}
        }
      ]
    },
    {
      "cell_type": "code",
      "source": [
        "# prompt: Naive Bayes\n",
        "\n",
        "import pandas as pd\n",
        "# Define the independent and dependent variables\n",
        "X = data[['rating']]\n",
        "y = data['inventory_total']\n",
        "\n",
        "# Convert the target variable to categorical\n",
        "y = pd.Categorical(y).codes\n",
        "\n",
        "# Create a Naive Bayes model\n",
        "from sklearn.naive_bayes import GaussianNB\n",
        "model = GaussianNB()\n",
        "\n",
        "# Fit the model to the data\n",
        "model.fit(X, y)\n",
        "\n",
        "# Make predictions\n",
        "predictions = model.predict(X)\n",
        "\n",
        "# Evaluate the model\n",
        "from sklearn.metrics import accuracy_score\n",
        "accuracy = accuracy_score(y, predictions)\n",
        "print(\"Accuracy:\", accuracy)\n"
      ],
      "metadata": {
        "colab": {
          "base_uri": "https://localhost:8080/"
        },
        "id": "Hoa8kRQNDUF1",
        "outputId": "4bea92c4-4d4b-461a-e540-c061bbf10343"
      },
      "execution_count": 29,
      "outputs": [
        {
          "output_type": "stream",
          "name": "stdout",
          "text": [
            "Accuracy: 0.9554990464081373\n"
          ]
        }
      ]
    },
    {
      "cell_type": "code",
      "source": [
        "# prompt: Random Forest complete code\n",
        "\n",
        "# Define the independent and dependent variables\n",
        "X = data[['rating']]\n",
        "y = data['inventory_total']\n",
        "\n",
        "# Create a Random Forest model\n",
        "from sklearn.ensemble import RandomForestClassifier\n",
        "model = RandomForestClassifier()\n",
        "\n",
        "# Fit the model to the data\n",
        "model.fit(X, y)\n",
        "\n",
        "# Make predictions\n",
        "predictions = model.predict(X)\n",
        "\n",
        "# Evaluate the model\n",
        "accuracy = accuracy_score(y, predictions)\n",
        "print(\"Accuracy:\", accuracy)\n",
        "\n",
        "# Feature Importance\n",
        "importances = model.feature_importances_\n",
        "features = X.columns\n",
        "for i, feature in enumerate(features):\n",
        "    print(f\"{feature}: {importances[i]}\")\n",
        "\n"
      ],
      "metadata": {
        "colab": {
          "base_uri": "https://localhost:8080/",
          "height": 211
        },
        "id": "EBcSzby3DZyC",
        "outputId": "3397f2ba-9265-41e6-e0e8-8d2849a0fe8c"
      },
      "execution_count": 30,
      "outputs": [
        {
          "output_type": "error",
          "ename": "NameError",
          "evalue": "name 'RandomForestClassifier' is not defined",
          "traceback": [
            "\u001b[0;31m---------------------------------------------------------------------------\u001b[0m",
            "\u001b[0;31mNameError\u001b[0m                                 Traceback (most recent call last)",
            "\u001b[0;32m<ipython-input-30-d265def37308>\u001b[0m in \u001b[0;36m<cell line: 8>\u001b[0;34m()\u001b[0m\n\u001b[1;32m      6\u001b[0m \u001b[0;34m\u001b[0m\u001b[0m\n\u001b[1;32m      7\u001b[0m \u001b[0;31m# Create a random forest model\u001b[0m\u001b[0;34m\u001b[0m\u001b[0;34m\u001b[0m\u001b[0m\n\u001b[0;32m----> 8\u001b[0;31m \u001b[0mmodel\u001b[0m \u001b[0;34m=\u001b[0m \u001b[0mRandomForestClassifier\u001b[0m\u001b[0;34m(\u001b[0m\u001b[0;34m)\u001b[0m\u001b[0;34m\u001b[0m\u001b[0;34m\u001b[0m\u001b[0m\n\u001b[0m\u001b[1;32m      9\u001b[0m \u001b[0;34m\u001b[0m\u001b[0m\n\u001b[1;32m     10\u001b[0m \u001b[0;31m# Fit the model to the data\u001b[0m\u001b[0;34m\u001b[0m\u001b[0;34m\u001b[0m\u001b[0m\n",
            "\u001b[0;31mNameError\u001b[0m: name 'RandomForestClassifier' is not defined"
          ]
        }
      ]
    },
    {
      "cell_type": "code",
      "source": [
        "# prompt: Support Vector Machines\n",
        "\n",
        "from sklearn.svm import SVC\n",
        "\n",
        "# Define the independent and dependent variables\n",
        "X = data[['rating']]\n",
        "y = data['inventory_total']\n",
        "\n",
        "# Create a support vector machine model\n",
        "model = SVC()\n",
        "\n",
        "# Fit the model to the data\n",
        "model.fit(X, y)\n",
        "\n",
        "# Make predictions\n",
        "predictions = model.predict(X)\n",
        "\n",
        "# Evaluate the model\n",
        "accuracy = accuracy_score(y, predictions)\n",
        "print(\"Accuracy:\", accuracy)\n"
      ],
      "metadata": {
        "colab": {
          "base_uri": "https://localhost:8080/"
        },
        "id": "oh_jbBAXDnO2",
        "outputId": "8f1fa5db-ad76-4927-9e9b-96e0e5135f44"
      },
      "execution_count": 31,
      "outputs": [
        {
          "output_type": "stream",
          "name": "stdout",
          "text": [
            "Accuracy: 0.9936427209154481\n"
          ]
        }
      ]
    },
    {
      "cell_type": "code",
      "source": [
        "# prompt: K-Nearest Neighbors\n",
        "\n",
        "from sklearn.neighbors import KNeighborsClassifier\n",
        "\n",
        "# Define the independent and dependent variables\n",
        "X = data[['rating']]\n",
        "y = data['inventory_total']\n",
        "\n",
        "# Create a KNN model\n",
        "model = KNeighborsClassifier(n_neighbors=3)\n",
        "\n",
        "# Fit the model to the data\n",
        "model.fit(X, y)\n",
        "\n",
        "# Make predictions\n",
        "predictions = model.predict(X)\n",
        "\n",
        "# Evaluate the model\n",
        "accuracy = accuracy_score(y, predictions)\n",
        "print(\"Accuracy:\", accuracy)\n"
      ],
      "metadata": {
        "colab": {
          "base_uri": "https://localhost:8080/"
        },
        "id": "S0LYA_yrDsPd",
        "outputId": "cf8a1c2a-75d0-48d6-a8e8-42a91869339c"
      },
      "execution_count": 32,
      "outputs": [
        {
          "output_type": "stream",
          "name": "stdout",
          "text": [
            "Accuracy: 0.9936427209154481\n"
          ]
        }
      ]
    },
    {
      "cell_type": "code",
      "source": [
        "# prompt: K-Means\n",
        "\n",
        "import matplotlib.pyplot as plt\n",
        "from sklearn.cluster import KMeans\n",
        "\n",
        "# Define the data\n",
        "X = data[['rating', 'inventory_total']]\n",
        "\n",
        "# Choose the number of clusters\n",
        "num_clusters = 3\n",
        "\n",
        "# Create the KMeans model\n",
        "model = KMeans(n_clusters=num_clusters)\n",
        "\n",
        "# Fit the model to the data\n",
        "model.fit(X)\n",
        "\n",
        "# Get the cluster labels\n",
        "labels = model.labels_\n",
        "\n",
        "# Get the cluster centers\n",
        "centers = model.cluster_centers_\n",
        "\n",
        "# Print the cluster labels and centers\n",
        "print(labels)\n",
        "print(centers)\n",
        "\n",
        "# Visualize the clusters\n",
        "plt.scatter(X['rating'], X['inventory_total'], c=labels)\n",
        "plt.scatter(centers[:, 0], centers[:, 1], marker='*', color='red')\n",
        "plt.title('K-Means Clustering')\n",
        "plt.xlabel('rating')\n",
        "plt.ylabel('inventory_total')\n",
        "plt.show()\n"
      ],
      "metadata": {
        "colab": {
          "base_uri": "https://localhost:8080/",
          "height": 596
        },
        "id": "ubgxdQb7Dzz4",
        "outputId": "863a635b-aedf-416a-a7ec-6e55569df9a2"
      },
      "execution_count": 33,
      "outputs": [
        {
          "output_type": "stream",
          "name": "stderr",
          "text": [
            "/usr/local/lib/python3.10/dist-packages/sklearn/cluster/_kmeans.py:870: FutureWarning: The default value of `n_init` will change from 10 to 'auto' in 1.4. Set the value of `n_init` explicitly to suppress the warning\n",
            "  warnings.warn(\n"
          ]
        },
        {
          "output_type": "stream",
          "name": "stdout",
          "text": [
            "[0 0 0 ... 0 0 0]\n",
            "[[ 3.81957774 50.        ]\n",
            " [ 4.335       3.5       ]\n",
            " [ 3.82166667 34.16666667]]\n"
          ]
        },
        {
          "output_type": "display_data",
          "data": {
            "text/plain": [
              "<Figure size 640x480 with 1 Axes>"
            ],
            "image/png": "[encoded data removed]"
          },
          "metadata": {}
        }
      ]
    },
    {
      "cell_type": "code",
      "source": [
        "# prompt:  Artificial Neural Networks\n",
        "\n",
        "import tensorflow as tf\n",
        "\n",
        "# Define the model\n",
        "model = tf.keras.Sequential([\n",
        "    tf.keras.layers.Dense(16, activation='relu', input_shape=(1,)),\n",
        "    tf.keras.layers.Dense(32, activation='relu'),\n",
        "    tf.keras.layers.Dense(1)\n",
        "])\n",
        "\n",
        "# Compile the model\n",
        "model.compile(optimizer='adam', loss='mean_squared_error')\n",
        "\n",
        "# Train the model\n",
        "model.fit(X, y, epochs=100)\n",
        "\n",
        "# Make predictions\n",
        "predictions = model.predict(X)\n",
        "\n",
        "# Evaluate the model\n",
        "mse = mean_squared_error(y, predictions)\n",
        "print(\"Mean squared error:\", mse)\n",
        "\n"
      ],
      "metadata": {
        "colab": {
          "base_uri": "https://localhost:8080/",
          "height": 790
        },
        "id": "KrdwVtPhD7XW",
        "outputId": "b53ef5d8-27bc-4db3-bfe0-964351253610"
      },
      "execution_count": 34,
      "outputs": [
        {
          "output_type": "stream",
          "name": "stdout",
          "text": [
            "Epoch 1/100\n"
          ]
        },
        {
          "output_type": "error",
          "ename": "ValueError",
          "evalue": "in user code:\n\n    File \"/usr/local/lib/python3.10/dist-packages/keras/src/engine/training.py\", line 1401, in train_function  *\n        return step_function(self, iterator)\n    File \"/usr/local/lib/python3.10/dist-packages/keras/src/engine/training.py\", line 1384, in step_function  **\n        outputs = model.distribute_strategy.run(run_step, args=(data,))\n    File \"/usr/local/lib/python3.10/dist-packages/keras/src/engine/training.py\", line 1373, in run_step  **\n        outputs = model.train_step(data)\n    File \"/usr/local/lib/python3.10/dist-packages/keras/src/engine/training.py\", line 1150, in train_step\n        y_pred = self(x, training=True)\n    File \"/usr/local/lib/python3.10/dist-packages/keras/src/utils/traceback_utils.py\", line 70, in error_handler\n        raise e.with_traceback(filtered_tb) from None\n    File \"/usr/local/lib/python3.10/dist-packages/keras/src/engine/input_spec.py\", line 280, in assert_input_compatibility\n        raise ValueError(\n\n    ValueError: Exception encountered when calling layer 'sequential' (type Sequential).\n    \n    Input 0 of layer \"dense\" is incompatible with the layer: expected axis -1 of input shape to have value 1, but received input with shape (None, 2)\n    \n    Call arguments received by layer 'sequential' (type Sequential):\n      • inputs=tf.Tensor(shape=(None, 2), dtype=float64)\n      • training=True\n      • mask=None\n",
          "traceback": [
            "\u001b[0;31m---------------------------------------------------------------------------\u001b[0m",
            "\u001b[0;31mValueError\u001b[0m                                Traceback (most recent call last)",
            "\u001b[0;32m<ipython-input-34-89bf73a6eaa7>\u001b[0m in \u001b[0;36m<cell line: 16>\u001b[0;34m()\u001b[0m\n\u001b[1;32m     14\u001b[0m \u001b[0;34m\u001b[0m\u001b[0m\n\u001b[1;32m     15\u001b[0m \u001b[0;31m# Train the model\u001b[0m\u001b[0;34m\u001b[0m\u001b[0;34m\u001b[0m\u001b[0m\n\u001b[0;32m---> 16\u001b[0;31m \u001b[0mmodel\u001b[0m\u001b[0;34m.\u001b[0m\u001b[0mfit\u001b[0m\u001b[0;34m(\u001b[0m\u001b[0mX\u001b[0m\u001b[0;34m,\u001b[0m \u001b[0my\u001b[0m\u001b[0;34m,\u001b[0m \u001b[0mepochs\u001b[0m\u001b[0;34m=\u001b[0m\u001b[0;36m100\u001b[0m\u001b[0;34m)\u001b[0m\u001b[0;34m\u001b[0m\u001b[0;34m\u001b[0m\u001b[0m\n\u001b[0m\u001b[1;32m     17\u001b[0m \u001b[0;34m\u001b[0m\u001b[0m\n\u001b[1;32m     18\u001b[0m \u001b[0;31m# Make predictions\u001b[0m\u001b[0;34m\u001b[0m\u001b[0;34m\u001b[0m\u001b[0m\n",
            "\u001b[0;32m/usr/local/lib/python3.10/dist-packages/keras/src/utils/traceback_utils.py\u001b[0m in \u001b[0;36merror_handler\u001b[0;34m(*args, **kwargs)\u001b[0m\n\u001b[1;32m     68\u001b[0m             \u001b[0;31m# To get the full stack trace, call:\u001b[0m\u001b[0;34m\u001b[0m\u001b[0;34m\u001b[0m\u001b[0m\n\u001b[1;32m     69\u001b[0m             \u001b[0;31m# `tf.debugging.disable_traceback_filtering()`\u001b[0m\u001b[0;34m\u001b[0m\u001b[0;34m\u001b[0m\u001b[0m\n\u001b[0;32m---> 70\u001b[0;31m             \u001b[0;32mraise\u001b[0m \u001b[0me\u001b[0m\u001b[0;34m.\u001b[0m\u001b[0mwith_traceback\u001b[0m\u001b[0;34m(\u001b[0m\u001b[0mfiltered_tb\u001b[0m\u001b[0;34m)\u001b[0m \u001b[0;32mfrom\u001b[0m \u001b[0;32mNone\u001b[0m\u001b[0;34m\u001b[0m\u001b[0;34m\u001b[0m\u001b[0m\n\u001b[0m\u001b[1;32m     71\u001b[0m         \u001b[0;32mfinally\u001b[0m\u001b[0;34m:\u001b[0m\u001b[0;34m\u001b[0m\u001b[0;34m\u001b[0m\u001b[0m\n\u001b[1;32m     72\u001b[0m             \u001b[0;32mdel\u001b[0m \u001b[0mfiltered_tb\u001b[0m\u001b[0;34m\u001b[0m\u001b[0;34m\u001b[0m\u001b[0m\n",
            "\u001b[0;32m/usr/local/lib/python3.10/dist-packages/keras/src/engine/training.py\u001b[0m in \u001b[0;36mtf__train_function\u001b[0;34m(iterator)\u001b[0m\n\u001b[1;32m     13\u001b[0m                 \u001b[0;32mtry\u001b[0m\u001b[0;34m:\u001b[0m\u001b[0;34m\u001b[0m\u001b[0;34m\u001b[0m\u001b[0m\n\u001b[1;32m     14\u001b[0m                     \u001b[0mdo_return\u001b[0m \u001b[0;34m=\u001b[0m \u001b[0;32mTrue\u001b[0m\u001b[0;34m\u001b[0m\u001b[0;34m\u001b[0m\u001b[0m\n\u001b[0;32m---> 15\u001b[0;31m                     \u001b[0mretval_\u001b[0m \u001b[0;34m=\u001b[0m \u001b[0mag__\u001b[0m\u001b[0;34m.\u001b[0m\u001b[0mconverted_call\u001b[0m\u001b[0;34m(\u001b[0m\u001b[0mag__\u001b[0m\u001b[0;34m.\u001b[0m\u001b[0mld\u001b[0m\u001b[0;34m(\u001b[0m\u001b[0mstep_function\u001b[0m\u001b[0;34m)\u001b[0m\u001b[0;34m,\u001b[0m \u001b[0;34m(\u001b[0m\u001b[0mag__\u001b[0m\u001b[0;34m.\u001b[0m\u001b[0mld\u001b[0m\u001b[0;34m(\u001b[0m\u001b[0mself\u001b[0m\u001b[0;34m)\u001b[0m\u001b[0;34m,\u001b[0m \u001b[0mag__\u001b[0m\u001b[0;34m.\u001b[0m\u001b[0mld\u001b[0m\u001b[0;34m(\u001b[0m\u001b[0miterator\u001b[0m\u001b[0;34m)\u001b[0m\u001b[0;34m)\u001b[0m\u001b[0;34m,\u001b[0m \u001b[0;32mNone\u001b[0m\u001b[0;34m,\u001b[0m \u001b[0mfscope\u001b[0m\u001b[0;34m)\u001b[0m\u001b[0;34m\u001b[0m\u001b[0;34m\u001b[0m\u001b[0m\n\u001b[0m\u001b[1;32m     16\u001b[0m                 \u001b[0;32mexcept\u001b[0m\u001b[0;34m:\u001b[0m\u001b[0;34m\u001b[0m\u001b[0;34m\u001b[0m\u001b[0m\n\u001b[1;32m     17\u001b[0m                     \u001b[0mdo_return\u001b[0m \u001b[0;34m=\u001b[0m \u001b[0;32mFalse\u001b[0m\u001b[0;34m\u001b[0m\u001b[0;34m\u001b[0m\u001b[0m\n",
            "\u001b[0;31mValueError\u001b[0m: in user code:\n\n    File \"/usr/local/lib/python3.10/dist-packages/keras/src/engine/training.py\", line 1401, in train_function  *\n        return step_function(self, iterator)\n    File \"/usr/local/lib/python3.10/dist-packages/keras/src/engine/training.py\", line 1384, in step_function  **\n        outputs = model.distribute_strategy.run(run_step, args=(data,))\n    File \"/usr/local/lib/python3.10/dist-packages/keras/src/engine/training.py\", line 1373, in run_step  **\n        outputs = model.train_step(data)\n    File \"/usr/local/lib/python3.10/dist-packages/keras/src/engine/training.py\", line 1150, in train_step\n        y_pred = self(x, training=True)\n    File \"/usr/local/lib/python3.10/dist-packages/keras/src/utils/traceback_utils.py\", line 70, in error_handler\n        raise e.with_traceback(filtered_tb) from None\n    File \"/usr/local/lib/python3.10/dist-packages/keras/src/engine/input_spec.py\", line 280, in assert_input_compatibility\n        raise ValueError(\n\n    ValueError: Exception encountered when calling layer 'sequential' (type Sequential).\n    \n    Input 0 of layer \"dense\" is incompatible with the layer: expected axis -1 of input shape to have value 1, but received input with shape (None, 2)\n    \n    Call arguments received by layer 'sequential' (type Sequential):\n      • inputs=tf.Tensor(shape=(None, 2), dtype=float64)\n      • training=True\n      • mask=None\n"
          ]
        }
      ]
    },
    {
      "cell_type": "code",
      "source": [
        "# prompt: Data Science analysis\n",
        "\n",
        "import pandas as pd\n",
        "import matplotlib.pyplot as plt\n",
        "# Perform data cleaning and preprocessing\n",
        "data = data.dropna()\n",
        "data['rating'] = data['rating'].astype(float)\n",
        "data['inventory_total'] = data['inventory_total'].astype(float)\n",
        "\n",
        "# Perform exploratory data analysis\n",
        "data.describe()\n",
        "data.corr()\n",
        "\n",
        "# Visualize the data\n",
        "plt.hist(data['rating'])\n",
        "plt.scatter(data['rating'], data['inventory_total'])\n",
        "\n",
        "# Build a linear regression model\n",
        "X = data[['rating']]\n",
        "y = data['inventory_total']\n",
        "model = LinearRegression()\n",
        "model.fit(X, y)\n",
        "\n",
        "# Evaluate the model\n",
        "model.score(X, y)\n",
        "\n",
        "# Make predictions\n",
        "new_data = {'rating': [4.0, 4.5, 5.0]}\n",
        "predicted_inventory = model.predict(pd.DataFrame(data=new_data))\n",
        "\n",
        "# Conclusion\n",
        "print(\"Based on the data analysis, there is a positive correlation between rating and inventory total. The linear regression model explains {}% of the variance in inventory total.\".format(model.score(X, y) * 100))\n"
      ],
      "metadata": {
        "colab": {
          "base_uri": "https://localhost:8080/",
          "height": 602
        },
        "id": "ehTWRESOEHI_",
        "outputId": "be35a139-f885-4c87-8e07-ded2243c46fc"
      },
      "execution_count": 35,
      "outputs": [
        {
          "output_type": "stream",
          "name": "stderr",
          "text": [
            "<ipython-input-35-cf835fb9d615>:7: SettingWithCopyWarning: \n",
            "A value is trying to be set on a copy of a slice from a DataFrame.\n",
            "Try using .loc[row_indexer,col_indexer] = value instead\n",
            "\n",
            "See the caveats in the documentation: https://pandas.pydata.org/pandas-docs/stable/user_guide/indexing.html#returning-a-view-versus-a-copy\n",
            "  data['rating'] = data['rating'].astype(float)\n",
            "<ipython-input-35-cf835fb9d615>:8: SettingWithCopyWarning: \n",
            "A value is trying to be set on a copy of a slice from a DataFrame.\n",
            "Try using .loc[row_indexer,col_indexer] = value instead\n",
            "\n",
            "See the caveats in the documentation: https://pandas.pydata.org/pandas-docs/stable/user_guide/indexing.html#returning-a-view-versus-a-copy\n",
            "  data['inventory_total'] = data['inventory_total'].astype(float)\n"
          ]
        },
        {
          "output_type": "error",
          "ename": "ValueError",
          "evalue": "could not convert string to float: 'Women Fashion Loose Lace Blouse Blouse V Neck Bat Sleeves T Shirt Hollow Out Tops Plus Grande Taille XS-8XL'",
          "traceback": [
            "\u001b[0;31m---------------------------------------------------------------------------\u001b[0m",
            "\u001b[0;31mValueError\u001b[0m                                Traceback (most recent call last)",
            "\u001b[0;32m<ipython-input-35-cf835fb9d615>\u001b[0m in \u001b[0;36m<cell line: 12>\u001b[0;34m()\u001b[0m\n\u001b[1;32m     10\u001b[0m \u001b[0;31m# Perform exploratory data analysis\u001b[0m\u001b[0;34m\u001b[0m\u001b[0;34m\u001b[0m\u001b[0m\n\u001b[1;32m     11\u001b[0m \u001b[0mdata\u001b[0m\u001b[0;34m.\u001b[0m\u001b[0mdescribe\u001b[0m\u001b[0;34m(\u001b[0m\u001b[0;34m)\u001b[0m\u001b[0;34m\u001b[0m\u001b[0;34m\u001b[0m\u001b[0m\n\u001b[0;32m---> 12\u001b[0;31m \u001b[0mdata\u001b[0m\u001b[0;34m.\u001b[0m\u001b[0mcorr\u001b[0m\u001b[0;34m(\u001b[0m\u001b[0;34m)\u001b[0m\u001b[0;34m\u001b[0m\u001b[0;34m\u001b[0m\u001b[0m\n\u001b[0m\u001b[1;32m     13\u001b[0m \u001b[0;34m\u001b[0m\u001b[0m\n\u001b[1;32m     14\u001b[0m \u001b[0;31m# Visualize the data\u001b[0m\u001b[0;34m\u001b[0m\u001b[0;34m\u001b[0m\u001b[0m\n",
            "\u001b[0;32m/usr/local/lib/python3.10/dist-packages/pandas/core/frame.py\u001b[0m in \u001b[0;36mcorr\u001b[0;34m(self, method, min_periods, numeric_only)\u001b[0m\n\u001b[1;32m  10052\u001b[0m         \u001b[0mcols\u001b[0m \u001b[0;34m=\u001b[0m \u001b[0mdata\u001b[0m\u001b[0;34m.\u001b[0m\u001b[0mcolumns\u001b[0m\u001b[0;34m\u001b[0m\u001b[0;34m\u001b[0m\u001b[0m\n\u001b[1;32m  10053\u001b[0m         \u001b[0midx\u001b[0m \u001b[0;34m=\u001b[0m \u001b[0mcols\u001b[0m\u001b[0;34m.\u001b[0m\u001b[0mcopy\u001b[0m\u001b[0;34m(\u001b[0m\u001b[0;34m)\u001b[0m\u001b[0;34m\u001b[0m\u001b[0;34m\u001b[0m\u001b[0m\n\u001b[0;32m> 10054\u001b[0;31m         \u001b[0mmat\u001b[0m \u001b[0;34m=\u001b[0m \u001b[0mdata\u001b[0m\u001b[0;34m.\u001b[0m\u001b[0mto_numpy\u001b[0m\u001b[0;34m(\u001b[0m\u001b[0mdtype\u001b[0m\u001b[0;34m=\u001b[0m\u001b[0mfloat\u001b[0m\u001b[0;34m,\u001b[0m \u001b[0mna_value\u001b[0m\u001b[0;34m=\u001b[0m\u001b[0mnp\u001b[0m\u001b[0;34m.\u001b[0m\u001b[0mnan\u001b[0m\u001b[0;34m,\u001b[0m \u001b[0mcopy\u001b[0m\u001b[0;34m=\u001b[0m\u001b[0;32mFalse\u001b[0m\u001b[0;34m)\u001b[0m\u001b[0;34m\u001b[0m\u001b[0;34m\u001b[0m\u001b[0m\n\u001b[0m\u001b[1;32m  10055\u001b[0m \u001b[0;34m\u001b[0m\u001b[0m\n\u001b[1;32m  10056\u001b[0m         \u001b[0;32mif\u001b[0m \u001b[0mmethod\u001b[0m \u001b[0;34m==\u001b[0m \u001b[0;34m\"pearson\"\u001b[0m\u001b[0;34m:\u001b[0m\u001b[0;34m\u001b[0m\u001b[0;34m\u001b[0m\u001b[0m\n",
            "\u001b[0;32m/usr/local/lib/python3.10/dist-packages/pandas/core/frame.py\u001b[0m in \u001b[0;36mto_numpy\u001b[0;34m(self, dtype, copy, na_value)\u001b[0m\n\u001b[1;32m   1836\u001b[0m         \u001b[0;32mif\u001b[0m \u001b[0mdtype\u001b[0m \u001b[0;32mis\u001b[0m \u001b[0;32mnot\u001b[0m \u001b[0;32mNone\u001b[0m\u001b[0;34m:\u001b[0m\u001b[0;34m\u001b[0m\u001b[0;34m\u001b[0m\u001b[0m\n\u001b[1;32m   1837\u001b[0m             \u001b[0mdtype\u001b[0m \u001b[0;34m=\u001b[0m \u001b[0mnp\u001b[0m\u001b[0;34m.\u001b[0m\u001b[0mdtype\u001b[0m\u001b[0;34m(\u001b[0m\u001b[0mdtype\u001b[0m\u001b[0;34m)\u001b[0m\u001b[0;34m\u001b[0m\u001b[0;34m\u001b[0m\u001b[0m\n\u001b[0;32m-> 1838\u001b[0;31m         \u001b[0mresult\u001b[0m \u001b[0;34m=\u001b[0m \u001b[0mself\u001b[0m\u001b[0;34m.\u001b[0m\u001b[0m_mgr\u001b[0m\u001b[0;34m.\u001b[0m\u001b[0mas_array\u001b[0m\u001b[0;34m(\u001b[0m\u001b[0mdtype\u001b[0m\u001b[0;34m=\u001b[0m\u001b[0mdtype\u001b[0m\u001b[0;34m,\u001b[0m \u001b[0mcopy\u001b[0m\u001b[0;34m=\u001b[0m\u001b[0mcopy\u001b[0m\u001b[0;34m,\u001b[0m \u001b[0mna_value\u001b[0m\u001b[0;34m=\u001b[0m\u001b[0mna_value\u001b[0m\u001b[0;34m)\u001b[0m\u001b[0;34m\u001b[0m\u001b[0;34m\u001b[0m\u001b[0m\n\u001b[0m\u001b[1;32m   1839\u001b[0m         \u001b[0;32mif\u001b[0m \u001b[0mresult\u001b[0m\u001b[0;34m.\u001b[0m\u001b[0mdtype\u001b[0m \u001b[0;32mis\u001b[0m \u001b[0;32mnot\u001b[0m \u001b[0mdtype\u001b[0m\u001b[0;34m:\u001b[0m\u001b[0;34m\u001b[0m\u001b[0;34m\u001b[0m\u001b[0m\n\u001b[1;32m   1840\u001b[0m             \u001b[0mresult\u001b[0m \u001b[0;34m=\u001b[0m \u001b[0mnp\u001b[0m\u001b[0;34m.\u001b[0m\u001b[0marray\u001b[0m\u001b[0;34m(\u001b[0m\u001b[0mresult\u001b[0m\u001b[0;34m,\u001b[0m \u001b[0mdtype\u001b[0m\u001b[0;34m=\u001b[0m\u001b[0mdtype\u001b[0m\u001b[0;34m,\u001b[0m \u001b[0mcopy\u001b[0m\u001b[0;34m=\u001b[0m\u001b[0;32mFalse\u001b[0m\u001b[0;34m)\u001b[0m\u001b[0;34m\u001b[0m\u001b[0;34m\u001b[0m\u001b[0m\n",
            "\u001b[0;32m/usr/local/lib/python3.10/dist-packages/pandas/core/internals/managers.py\u001b[0m in \u001b[0;36mas_array\u001b[0;34m(self, dtype, copy, na_value)\u001b[0m\n\u001b[1;32m   1730\u001b[0m                 \u001b[0marr\u001b[0m\u001b[0;34m.\u001b[0m\u001b[0mflags\u001b[0m\u001b[0;34m.\u001b[0m\u001b[0mwriteable\u001b[0m \u001b[0;34m=\u001b[0m \u001b[0;32mFalse\u001b[0m\u001b[0;34m\u001b[0m\u001b[0;34m\u001b[0m\u001b[0m\n\u001b[1;32m   1731\u001b[0m         \u001b[0;32melse\u001b[0m\u001b[0;34m:\u001b[0m\u001b[0;34m\u001b[0m\u001b[0;34m\u001b[0m\u001b[0m\n\u001b[0;32m-> 1732\u001b[0;31m             \u001b[0marr\u001b[0m \u001b[0;34m=\u001b[0m \u001b[0mself\u001b[0m\u001b[0;34m.\u001b[0m\u001b[0m_interleave\u001b[0m\u001b[0;34m(\u001b[0m\u001b[0mdtype\u001b[0m\u001b[0;34m=\u001b[0m\u001b[0mdtype\u001b[0m\u001b[0;34m,\u001b[0m \u001b[0mna_value\u001b[0m\u001b[0;34m=\u001b[0m\u001b[0mna_value\u001b[0m\u001b[0;34m)\u001b[0m\u001b[0;34m\u001b[0m\u001b[0;34m\u001b[0m\u001b[0m\n\u001b[0m\u001b[1;32m   1733\u001b[0m             \u001b[0;31m# The underlying data was copied within _interleave, so no need\u001b[0m\u001b[0;34m\u001b[0m\u001b[0;34m\u001b[0m\u001b[0m\n\u001b[1;32m   1734\u001b[0m             \u001b[0;31m# to further copy if copy=True or setting na_value\u001b[0m\u001b[0;34m\u001b[0m\u001b[0;34m\u001b[0m\u001b[0m\n",
            "\u001b[0;32m/usr/local/lib/python3.10/dist-packages/pandas/core/internals/managers.py\u001b[0m in \u001b[0;36m_interleave\u001b[0;34m(self, dtype, na_value)\u001b[0m\n\u001b[1;32m   1792\u001b[0m             \u001b[0;32melse\u001b[0m\u001b[0;34m:\u001b[0m\u001b[0;34m\u001b[0m\u001b[0;34m\u001b[0m\u001b[0m\n\u001b[1;32m   1793\u001b[0m                 \u001b[0marr\u001b[0m \u001b[0;34m=\u001b[0m \u001b[0mblk\u001b[0m\u001b[0;34m.\u001b[0m\u001b[0mget_values\u001b[0m\u001b[0;34m(\u001b[0m\u001b[0mdtype\u001b[0m\u001b[0;34m)\u001b[0m\u001b[0;34m\u001b[0m\u001b[0;34m\u001b[0m\u001b[0m\n\u001b[0;32m-> 1794\u001b[0;31m             \u001b[0mresult\u001b[0m\u001b[0;34m[\u001b[0m\u001b[0mrl\u001b[0m\u001b[0;34m.\u001b[0m\u001b[0mindexer\u001b[0m\u001b[0;34m]\u001b[0m \u001b[0;34m=\u001b[0m \u001b[0marr\u001b[0m\u001b[0;34m\u001b[0m\u001b[0;34m\u001b[0m\u001b[0m\n\u001b[0m\u001b[1;32m   1795\u001b[0m             \u001b[0mitemmask\u001b[0m\u001b[0;34m[\u001b[0m\u001b[0mrl\u001b[0m\u001b[0;34m.\u001b[0m\u001b[0mindexer\u001b[0m\u001b[0;34m]\u001b[0m \u001b[0;34m=\u001b[0m \u001b[0;36m1\u001b[0m\u001b[0;34m\u001b[0m\u001b[0;34m\u001b[0m\u001b[0m\n\u001b[1;32m   1796\u001b[0m \u001b[0;34m\u001b[0m\u001b[0m\n",
            "\u001b[0;31mValueError\u001b[0m: could not convert string to float: 'Women Fashion Loose Lace Blouse Blouse V Neck Bat Sleeves T Shirt Hollow Out Tops Plus Grande Taille XS-8XL'"
          ]
        }
      ]
    }
  ]
}